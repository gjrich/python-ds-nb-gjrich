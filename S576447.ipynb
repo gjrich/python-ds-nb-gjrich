{
 "cells": [
  {
   "cell_type": "markdown",
   "metadata": {},
   "source": [
    "### Gabriel Richards "
   ]
  },
  {
   "cell_type": "code",
   "execution_count": 5,
   "metadata": {},
   "outputs": [
    {
     "name": "stdout",
     "output_type": "stream",
     "text": [
      "```\n",
      "*      *\n",
      "**    **\n",
      "***  ***\n",
      "********\n",
      "```\n"
     ]
    }
   ],
   "source": [
    "# Number of rows for the pattern\n",
    "n = 4\n",
    "\n",
    "print(\"```\")\n",
    "\n",
    "# Loop to print each row\n",
    "for i in range(1, n+1):\n",
    "    # Print the left stars\n",
    "    print('*' * i, end='')\n",
    "\n",
    "    # Print the spaces in between\n",
    "    print(' ' * (2 * (n - i)), end='')\n",
    "\n",
    "    # Print the right stars\n",
    "    print('*' * i)\n",
    "\n",
    "\n",
    "print(\"```\")"
   ]
  }
 ],
 "metadata": {
  "kernelspec": {
   "display_name": "Python 3",
   "language": "python",
   "name": "python3"
  },
  "language_info": {
   "codemirror_mode": {
    "name": "ipython",
    "version": 3
   },
   "file_extension": ".py",
   "mimetype": "text/x-python",
   "name": "python",
   "nbconvert_exporter": "python",
   "pygments_lexer": "ipython3",
   "version": "3.12.5"
  }
 },
 "nbformat": 4,
 "nbformat_minor": 2
}
